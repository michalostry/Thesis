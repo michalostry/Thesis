{
 "cells": [
  {
   "cell_type": "markdown",
   "metadata": {},
   "source": [
    "# Analysis of School Admission Outcomes: Timing of Test Results in Deferred acceptance algorithm\n",
    "\n",
    "\n",
    "\n",
    "|Name|SNR|ANR|\n",
    "|----|---|----|\n",
    "|michal ostry|2106340|185010|\n",
    "\n"
   ]
  },
  {
   "cell_type": "markdown",
   "metadata": {},
   "source": [
    "---"
   ]
  },
  {
   "cell_type": "markdown",
   "metadata": {},
   "source": [
    "# Paper (0.5 points)\n",
    "\n",
    "I decided to focus on <b>Deferred acceptance algorithm</b> applied to matching students and educational institutions. The primary theoretical game theory paper is by __[D. Gale and L. S. Shapley (1962)](https://www.eecs.harvard.edu/cs286r/courses/fall09/papers/galeshapley.pdf)__. I explain main concepts and assumptions of the algorithm, and it's applications based on this paper. But for the python simulation in which I propose two variantions to the original paper, I'm taking inspiration from a recent applied study by __[Tomas Protivinsky (2023)](https://idea.cerge-ei.cz/files/IDEA_Studie_14_2023_Prijimacky_1016.pdf)__, which focuses on proposed changes to the system of allocation of secondary high school aplicants in Czechia.\n",
    "\n",
    "#### Main Takeaways\n",
    "\n",
    "1. The paper introduces the marriage model, a foundational concept in two-sided matching markets.\n",
    "\n",
    "2. It addresses the stable matching problem, aiming to match participants in a way that no pair of individuals would prefer each other over their current partners.\n",
    "\n",
    "3. Gale and Shapley developed an algorithm, known as the Gale-Shapley algorithm or the Deferred Acceptance (DA) algorithm, to solve the stable matching problem.\n",
    "\n",
    "4. The concepts have been applied in economics, health, and computer science, influencing areas like school admissions, hospital intern assignments, and organ transplants.\n",
    "\n",
    "5. The paper significantly influenced game theory and economics, particularly in understanding and designing matching markets.\n",
    "\n",
    "7. Demonstrates the existence of a pairwise stable outcome in two-sided matching markets.\n",
    "\n",
    "#### Deferred Acceptance Algorithm\n",
    "\n",
    "- **Basic Concept**: The DA algorithm involves participants on two sides (e.g., men and women in the marriage problem) who have preferences over members of the other side.\n",
    "- **Process**:\n",
    "  1. **Proposal Phase**: One side (e.g., students) proposes to their most preferred choice.\n",
    "  2. **Acceptance/Rejection Phase**: The other side (e.g., schools) tentatively accepts the proposal they prefer most and rejects others. They can reject those who were before tentatively accepted.\n",
    "  3. **Iteration**: Rejected individuals propose to their next preference. This process iterates until there are no more proposals to make.\n",
    "- **Stability**: The algorithm ensures a stable matching, where no two individuals would prefer each other over their current matches.\n",
    "- **Optimality**: For the proposing side, the DA algorithm yields the best stable outcome. For the receiving side, it's the worst stable outcome among all stable matchings."
   ]
  },
  {
   "cell_type": "markdown",
   "metadata": {
    "deletable": false,
    "nbgrader": {
     "checksum": "84c7d0d85d8fb5e0073f3053f9bedf5a",
     "grade": true,
     "grade_id": "cell-8cbf4938fbebbb6e",
     "locked": false,
     "points": 0.5,
     "schema_version": 1,
     "solution": true
    }
   },
   "source": []
  },
  {
   "cell_type": "markdown",
   "metadata": {},
   "source": [
    "# Research question (0.5 points)"
   ]
  },
  {
   "cell_type": "markdown",
   "metadata": {
    "deletable": false,
    "nbgrader": {
     "checksum": "b350c3082e112a5b2f1f6db0481fa5bd",
     "grade": true,
     "grade_id": "cell-7a61a5e9e6991ff4",
     "locked": false,
     "points": 0.5,
     "schema_version": 1,
     "solution": true
    }
   },
   "source": [
    "### Impact of Test Result Timing on School Application Strategies and Outcomes\n",
    "\n",
    "#### Background\n",
    "The current school application process in some regions requires students to apply to schools without knowing their test results. Even if optimal algorithms are used, this situation still creates strategic applications based on assumptions rather than actual performance, potentially affecting the fairness and efficiency of school admissions. \n",
    "\n",
    "#### Objective\n",
    "To investigate how the timing of test results - before vs. after school applications - influences the strategies adopted by students and their parents, and the overall outcomes of the school admission process.\n",
    "\n",
    "#### Key Points of Interest\n",
    "1. **Application Strategy**: How does knowing test results beforehand change the way students and parents choose schools?\n",
    "2. **Admission Outcomes**: Does the timing of test results lead to different patterns in school admissions?\n",
    "3. **Impact on Equity and ineqaulities**: Does having test results before applying make the admission process more equitable and more preventive of sustaining inequalities in society?\n",
    "5. **Systemic Implications**: What are the broader implications for the education system, including the potential for strategic behavior, pressure on students, role of parents and family?\n",
    "\n",
    "#### Hypotheses\n",
    "- **Hypothesis 1**: Knowing test results before applying to schools leads to more accurate and less speculative school choices by students.\n",
    "- **Hypothesis 2**: The timing of test results significantly impacts the overall efficiency and fairness of the school admission process.\n",
    "\n",
    "#### Methodology\n",
    "- **Data simulation modeling**: Creating an aproximation of the real world by simulating preferences and test results of students and matching algorithm outcomes."
   ]
  },
  {
   "cell_type": "markdown",
   "metadata": {},
   "source": [
    "# Motivation (0.5 points)\n",
    "\n",
    "The process of applying to schools is a critical juncture in a student's educational journey. Gale and Shapley introduced an DA algorithm which is considered the best option among many other similar options in matching students to educational institutions, especially as it creates higher satisfaction with allocation on the side of the students (and not on the school's side).In ideal situation, student and shools have information symetry and both operate with results of the entry exams. But that is not always the case. How much does the situation change, if the student (and his family) has to list preferences of schools before knowing the entrance test results? And thus has to base their decision on onother imperfect information (up to date performance, insider information, perceived demand for certain schools etc.) How much does this create a barrier to the function of education as a social elevator?\n",
    "\n",
    "#### Specific Context: High School Applications in the Czech Republic, 2023\n",
    "\n",
    "- The Czech Republic currently does not use a matching algorithm. Students list 2 schools in their application, they receive offers from one, both or none of them based on the results, which they do not know during their selection proces. In the second round applicants (usally children's parents) often visit schools personally to ask about possible spots at the school created by other student's who rejected their offer.\n",
    "- In 2023, the Czech Republic saw a rise in the number of high school applicants, contributing to heightened competition and uncertainty. Havy stragising created situations where talented students ended at bad schools for fear of not being accepted to good ones and thus having no school at all.\n",
    "- For year 2024 Ministery of education will probably introduce a system with 3 applications with a given order of preference. Sorting algorithm, probably DA, might be used to allocate students to their preferences. Effectiveness of DA in the context of unknown test results but remains an open question.\n",
    "\n",
    "#### Potential for Systemic Improvement\n",
    "\n",
    "- **Fairness in Education**: Understanding the implications of test result timing on school applications in the Czech Republic could lead to a more equitable admissions process, ensuring fair opportunities for all students.\n",
    "- **Reducing Speculative Applications**: Insights into whether having test results beforehand aligns school choices more closely with students' actual performance could inform future policy decisions.\n",
    "- **Policy Implications**: This research could provide valuable feedback to Czech educational authorities on the impact of recent changes and suggest further improvements.\n"
   ]
  },
  {
   "cell_type": "markdown",
   "metadata": {
    "deletable": false,
    "nbgrader": {
     "checksum": "ab93f4d26eb3e0bcf88927ee71df6b63",
     "grade": true,
     "grade_id": "cell-3d71712c92143820",
     "locked": false,
     "points": 0.5,
     "schema_version": 1,
     "solution": true
    }
   },
   "source": [
    "\n"
   ]
  },
  {
   "cell_type": "markdown",
   "metadata": {},
   "source": [
    "# Preview of the answers (0.5 points)"
   ]
  },
  {
   "cell_type": "markdown",
   "metadata": {
    "deletable": false,
    "nbgrader": {
     "checksum": "938eb25dc709a2252d7013dc1cd8176a",
     "grade": true,
     "grade_id": "cell-1b3df4385bba508d",
     "locked": false,
     "points": 0.5,
     "schema_version": 1,
     "solution": true
    }
   },
   "source": [
    "Knowing test scores before applying leads to better school choices, resulting in a more efficient and equitable allocation process. The random preference selection scenario, while offering more first-preference allocations, appears less efficient and potentially unfair, particularly for higher-scoring students who end up in mid-ranked schools or are not allocated at all."
   ]
  },
  {
   "cell_type": "markdown",
   "metadata": {},
   "source": [
    "# Main assumptions (0.5 points)\n",
    "\n",
    "\n",
    "1. **Student Preferences**: The model assumes adoption of DA system with 3 stated and ordered preferences. Students apply to schools based on their preferences, with their most preferred school listed first. All schools can be ordered from the best to worst and this order is the same for all students.\n",
    "\n",
    "2. **School Preferences**: Similarly, the model assumes that each school has a ranked list of preferences for students. Schools accept or reject students based on their preferences in general test, with their most preferred students listed first. Schools do not have any additional criteria.\n",
    "\n",
    "3. **School Capacities**: The model accounts for the capacity of each school, limiting the number of students it can accept. It assumes that each school has a predefined capacity that cannot be exceeded.\n",
    "\n",
    "4. **Deferred Acceptance Algorithm**: The model implements the Deferred Acceptance Algorithm. In this algorithm, students propose to their most preferred schools, and schools tentatively accept students up to their capacity. If a student is rejected, they apply to their next preferred school in the next round. This process continues until no more changes occur.\n",
    "\n",
    "6. **Two Scenarios**:\n",
    "    - **Scenario 1: Random preferences**: In this scenario, the model approximates conditions, when student's choose their preferences without knowing test results.\n",
    "    \n",
    "    - **Scenario 2: Test score preferences**: In this scenario, the model allows students to base their preferences on their test results.\n",
    "    - The algorithm ensures that the allocation is stable in both scenarios, and the outcome can be considered the \"optimal\" one.\n",
    "\n",
    "These assumptions form the foundation of the model and guide the allocation of students to schools based on their preferences, capacities, and the iterative nature of the Deferred Acceptance Algorithm with Reassessment.\n"
   ]
  },
  {
   "cell_type": "code",
   "execution_count": null,
   "metadata": {
    "deletable": false,
    "nbgrader": {
     "checksum": "2e95c3f2ef005a63968a0ade420f5af7",
     "grade": true,
     "grade_id": "cell-d84f19967b2baa1d",
     "locked": false,
     "points": 0.5,
     "schema_version": 1,
     "solution": true
    }
   },
   "outputs": [],
   "source": []
  },
  {
   "cell_type": "markdown",
   "metadata": {},
   "source": [
    "# Model in the paper (1.0 points)"
   ]
  },
  {
   "cell_type": "markdown",
   "metadata": {
    "nbgrader": {
     "checksum": "2e95c3f2ef005a63968a0ade420f5af7",
     "grade": true,
     "grade_id": "cell-d84f19967b2baa1d",
     "locked": false,
     "points": 0.5,
     "schema_version": 1,
     "solution": true
    }
   },
   "source": [
    "## Gale-Shapley Algorithm with School Quotas  (from D. Gale and L. S. Shapley, 1962)\n",
    "\n",
    "1. **Preference Lists and Quotas**:\n",
    "   - Let $A = \\{a_1, a_2, \\ldots, a_n\\}$ represent the set of students.\n",
    "   - Let $B = \\{b_1, b_2, \\ldots, b_m\\}$ represent the set of schools, where $m$ may be less than $n$.\n",
    "   - Each student $a_i$ in $A$ has a preference list over the schools in $B$, denoted as $P(a_i)$.\n",
    "   - Each school $b_j$ in $B$ has a preference list over the students in $A$, denoted as $P(b_j)$, and a quota $q_j$ representing the maximum number of students it can admit.\n",
    "\n",
    "2. **Matching**:\n",
    "   - Define a matching $M$ as a set of pairs $(a_i, b_j)$.\n",
    "   - Initially, $M = \\emptyset$.\n",
    "\n",
    "3. **Algorithm Execution**:\n",
    "   - Each student $a_i$ proposes to their most preferred school $b_j$ in $P(a_i)$ that they have not yet proposed to.\n",
    "   - A school $b_j$ considers all proposals it receives at each step. It tentatively accepts up to $q_j$ students based on its preference list $P(b_j)$, giving priority to the students it prefers the most. If more than $q_j$ students propose, it rejects the least preferred ones.\n",
    "   - Students who are rejected or have not yet received any tentative acceptance continue to propose to the next school on their list in subsequent rounds.\n",
    "\n",
    "4. **Iteration**:\n",
    "   - The process repeats with students proposing to their next preferred schools until all students are either matched or have no more schools to propose to.\n",
    "\n",
    "5. **Stability Condition**:\n",
    "   - A matching $M$ is stable if there are no pairs $(a_i, b_j)$ such that $a_i$ is either unmatched or prefers $b_j$ over its current match, and $b_j$ has not filled its quota or prefers $a_i$ over at least one of its current matches.\n",
    "\n",
    "6. **Result**:\n",
    "   - The algorithm concludes with a stable matching $M$ where each student is matched with at most one school.\n"
   ]
  },
  {
   "cell_type": "markdown",
   "metadata": {},
   "source": [
    "## Adapted DA Algorithm with 3 Student Preferences and Possible Non-Matching (from Protivinsky, 2023)\n",
    "\n",
    "1. **Limited Preferences**:\n",
    "   - Each student $a_i$ in $A$ has a limited preference list containing only three schools from $B$, denoted as $P(a_i)$.\n",
    "\n",
    "2. **Possibility of Non-Matching**:\n",
    "   - If a student $a_i$ has proposed to all three schools on their preference list and has been rejected by each (due to the schools' quotas being filled or preferences for other students), then $a_i$ will remain unmatched.\n",
    "   - The algorithm accounts for the possibility that some students may not be matched to any school by the end of the process.\n"
   ]
  },
  {
   "cell_type": "markdown",
   "metadata": {},
   "source": [
    "## Model Extention\n",
    "\n",
    "### Additional Components:\n",
    "- **Test Scores**: Each student $a_i$ in $A$ has a test score $s_i$.\n",
    "- **School Rankings**: Schools in $B$ are ranked from best to worst, and all students share this common ranking.\n",
    "- **School Acceptance Criteria**: Schools accept students based on their test scores.\n",
    "\n",
    "### Scenario 1: Students Select Preferences Without Knowing Their Test Scores\n",
    "1. **Random Preferences**:\n",
    "   - Students select their top three school preferences without knowledge of their test scores.\n",
    "   - Preference lists $P(a_i)$ are formed randomly or based on criteria other than the likelihood of acceptance.\n",
    "   \n",
    "### Scenario 2: Students Select Preferences Knowing Their Test Scores\n",
    "1. **Informed Preferences**:\n",
    "   - Students select their top three school preferences based on their test scores and the known rankings of the schools.\n",
    "   - Preference lists $P(a_i)$ for each student are formed with an understanding of where they are likely to be competitive based on their score."
   ]
  },
  {
   "cell_type": "markdown",
   "metadata": {
    "tags": []
   },
   "source": [
    "# Python code (6.0 points)\n",
    "\n",
    "Use figures to present the results of the model simulations. Explain what relations between the variables the figures show and give an economic intuition for these relations.\n",
    "\n",
    "Create as many python and markdown cells as you need to explain things well.\n"
   ]
  },
  {
   "cell_type": "code",
   "execution_count": 1,
   "metadata": {
    "deletable": false,
    "nbgrader": {
     "checksum": "3dd4c02198f7b81f943268cb3d0a12b2",
     "grade": true,
     "grade_id": "cell-a2231ee7e6d4e686",
     "locked": false,
     "points": 7,
     "schema_version": 1,
     "solution": true
    }
   },
   "outputs": [],
   "source": [
    "import numpy as np\n",
    "import pandas as pd\n",
    "import scipy as sp\n",
    "import pymc3 as pm\n",
    "import matplotlib.pyplot as plt\n",
    "import seaborn as sns\n",
    "from copy import deepcopy\n",
    "\n",
    "#muted parts of the code are testing points"
   ]
  },
  {
   "cell_type": "markdown",
   "metadata": {},
   "source": [
    "## Step 1 - Generate students and preferences"
   ]
  },
  {
   "cell_type": "markdown",
   "metadata": {},
   "source": [
    "\n"
   ]
  },
  {
   "cell_type": "code",
   "execution_count": 40,
   "metadata": {},
   "outputs": [],
   "source": [
    "# SET PARAMETRES\n",
    "NUM_STUDENTS = 8000 # 10 000 represents a city in Czechia where also students from the region go to\n",
    "NUM_SCHOOLS = 17 #10 is around the number of high schools such city can have\n",
    "SCHOOL_CAPACITY = 400 #900 in each school, creates situation when there is an excess of students\n",
    "PREFERENCES = 3 #code currently does not allow to change this parametr\n",
    "MAX_JUMP = 10 #defines how maximally higher / lower the first and third preference is compared to the second - explained more later in code"
   ]
  },
  {
   "cell_type": "code",
   "execution_count": 41,
   "metadata": {},
   "outputs": [],
   "source": [
    "# Generate students and schools\n",
    "students = pd.DataFrame({'student_id': range(NUM_STUDENTS)})\n",
    "schools = pd.DataFrame({'school_id': range(NUM_SCHOOLS)})"
   ]
  },
  {
   "cell_type": "markdown",
   "metadata": {},
   "source": [
    "##### Comments\n",
    "- Schools id is proxy for it's quality. School 100 is the best. School 1 is the worst (in python this corresponds to schools id 0 and 99). Student's want to be at the best school.\n",
    "- Student test scores are generated with a uniform distribution from 0 to 100. This simulates their percentile in the test, whcih can have different distribution of marks.\n",
    "- In scenario 1 student simply randomly chooses 3 schools and orderes them based on their id\n",
    "- In scenario 2 students match their preference no. 2 to the school quality percentile, which corresponds to their percentile results in the test. The preference no. 1 is randomly higher by MAX_JUMP places and equally preference no. 3 is randomly lower. Preference 2 cannot be the best or the worst school to always allow space for one worse or better school."
   ]
  },
  {
   "cell_type": "code",
   "execution_count": 42,
   "metadata": {},
   "outputs": [],
   "source": [
    "# Scenario 1: Random Preferences\n",
    "np.random.seed(0)  # For reproducibility\n",
    "\n",
    "# Generate random preferences for all students\n",
    "all_preferences = np.apply_along_axis(lambda x: np.random.choice(NUM_SCHOOLS, PREFERENCES, replace=False), \n",
    "                                      axis=1, \n",
    "                                      arr=np.zeros((NUM_STUDENTS, PREFERENCES)))\n",
    "\n",
    "# Sort preferences for each student in descending order\n",
    "sorted_preferences = np.sort(all_preferences, axis=1)[:, ::-1]\n",
    "\n",
    "# Create DataFrame from sorted preferences\n",
    "random_pref_df = pd.DataFrame(sorted_preferences, columns=['random_first_pref', 'random_second_pref', 'random_third_pref'])\n",
    "random_pref_df['student_id'] = np.arange(NUM_STUDENTS)\n"
   ]
  },
  {
   "cell_type": "code",
   "execution_count": 43,
   "metadata": {},
   "outputs": [],
   "source": [
    "# Scenario 2: Preferences Based on Test Scores and School Quality\n",
    "np.random.seed(0)  # Reset seed for consistency\n",
    "students['test_score'] = np.random.uniform(0, 100, size=NUM_STUDENTS)\n",
    "\n",
    "#Each student is assigned a random test score, drawn from a uniform distribution\n",
    "\n",
    "def generate_preferences(score, num_schools, max_jump):\n",
    "    # Scale the score to match the school ID range\n",
    "    scaled_score = 1 + int((num_schools - 2) * score / 100)\n",
    "    \n",
    "    # generate randomly higher (student wants a chance for better school) and lower (to be certain atleast one school will accept him) for the first and third preference\n",
    "    first_pref = max(0, min(num_schools - 1, scaled_score + np.random.randint(1, MAX_JUMP+1)))\n",
    "    third_pref = max(0, min(num_schools - 1, scaled_score - np.random.randint(1, MAX_JUMP+1)))\n",
    "\n",
    "    # Return preferences in order\n",
    "    return [first_pref, scaled_score, third_pref]\n",
    "\n",
    "# Apply the function to generate new preferences\n",
    "students['preferences'] = students['test_score'].apply(\n",
    "    lambda score: generate_preferences(score, NUM_SCHOOLS, MAX_JUMP)\n",
    ")\n",
    "\n",
    "# Scenario 2 DataFrame\n",
    "score_based_pref_df = students[['test_score', 'preferences']]\n",
    "score_based_pref_df = score_based_pref_df.join(pd.DataFrame(score_based_pref_df.pop('preferences').values.tolist(), columns=['score_first_pref', 'score_second_pref', 'score_third_pref']))\n",
    "score_based_pref_df['student_id'] = score_based_pref_df.index\n"
   ]
  },
  {
   "cell_type": "code",
   "execution_count": 44,
   "metadata": {},
   "outputs": [],
   "source": [
    "# Merging both DataFrames\n",
    "final_df = pd.merge(random_pref_df, score_based_pref_df, on='student_id')\n",
    "\n",
    "# Display the first few rows of the final DataFrame\n",
    "#final_df.head()"
   ]
  },
  {
   "metadata": {
    "jupyter": {
     "is_executing": true
    }
   },
   "cell_type": "code",
   "source": "",
   "outputs": [],
   "execution_count": null
  },
  {
   "cell_type": "markdown",
   "metadata": {},
   "source": [
    "\n"
   ]
  },
  {
   "cell_type": "markdown",
   "metadata": {},
   "source": [
    "## Step 2 - Preparing lists for algorithm"
   ]
  },
  {
   "cell_type": "markdown",
   "metadata": {},
   "source": [
    "##### Comments:\n",
    "- Originally the plan was to use the DA algorithm used by Protivinsky to compute the allocations. But after many problems and not uderstanding the code I have decided that with the help of GPT I can create the algorithm myself. I still do not fully understand some parts of the code, but I have tested it's outcomes in many scenarios and it is doing what the original model describes.\n",
    "- The algorithm is quite insufficient ( I convert all the df to a dictionaries) and there must be for sure better ways how to write it, at this point I think I could spend more time on it, but the improvements would be only wery small."
   ]
  },
  {
   "cell_type": "code",
   "execution_count": 45,
   "metadata": {},
   "outputs": [],
   "source": [
    "# Create a new DataFrame with \"student_id\" and 3 random preferences\n",
    "random_preferences_df = final_df[[\"random_first_pref\", \"random_second_pref\", \"random_third_pref\"]]\n",
    "\n",
    "# Create a new DataFrame with \"student_id\" and 3 score-based preferences\n",
    "score_preferences_df = final_df[[\"score_first_pref\", \"score_second_pref\", \"score_third_pref\"]]\n",
    "\n",
    "# Convert random_preferences_df to a dictionary with row number as the key\n",
    "student_preferences_random_dict = {index: row.tolist() for index, row in random_preferences_df.iterrows()}\n",
    "\n",
    "# Convert score_preferences_df to a dictionary with row number as the key\n",
    "student_preferences_score_dict = {index: row.tolist() for index, row in score_preferences_df.iterrows()}\n",
    "\n",
    "#print(\"Random Preferences Dictionary:\")\n",
    "#print(student_preferences_random_dict)\n",
    "\n",
    "#print(\"\\nScore-based Preferences Dictionary:\")\n",
    "#print(student_preferences_score_dict)"
   ]
  },
  {
   "cell_type": "code",
   "execution_count": 46,
   "metadata": {},
   "outputs": [],
   "source": [
    "# Sort the DataFrame by \"test_score\"\n",
    "sorted_df = final_df.sort_values(by=\"test_score\", ascending = False)\n",
    "#sorted_df.head()"
   ]
  },
  {
   "cell_type": "code",
   "execution_count": 47,
   "metadata": {},
   "outputs": [],
   "source": [
    "school_preferences_all = sorted_df.index.tolist()\n",
    "#print(school_preferences_all)"
   ]
  },
  {
   "cell_type": "code",
   "execution_count": 48,
   "metadata": {},
   "outputs": [],
   "source": [
    "# Create a dictionary where each school is a key and the value is school_preferences_all\n",
    "school_preferences_dict = {school_number: school_preferences_all for school_number in range(NUM_SCHOOLS)}\n",
    "#print(school_preferences_dict)"
   ]
  },
  {
   "cell_type": "markdown",
   "metadata": {},
   "source": [
    "## Step 3 - DA algorithm matching\n"
   ]
  },
  {
   "cell_type": "code",
   "execution_count": 49,
   "metadata": {},
   "outputs": [],
   "source": [
    "# Create a dictionary where each school in the range has a capacity\n",
    "schools_capacity = {school_number: SCHOOL_CAPACITY for school_number in range(0, NUM_SCHOOLS)}\n",
    "\n",
    "# in the future it is possible to include different capacities for each school\n",
    "#print(schools_capacity)\n"
   ]
  },
  {
   "cell_type": "code",
   "execution_count": 50,
   "metadata": {},
   "outputs": [],
   "source": [
    "def deferred_acceptance_with_reassessment(students_preferences, schools_preferences, schools_capacity, max_iterations=5000, convergence_threshold=5):\n",
    "    # Initialize matches for students and proposals for schools\n",
    "    matches = {student: None for student in students_preferences}\n",
    "    proposals = {school: [] for school in schools_preferences}\n",
    "    rejections = {school: [] for school in schools_preferences}  # New data structure to track rejections\n",
    "    proposed_this_round = {school: [] for school in schools_preferences}  # Track students who proposed to schools in this round\n",
    "    \n",
    "    iteration = 0\n",
    "    consecutive_stable_iterations = 0  # Counter to track consecutive iterations with no changes\n",
    "    while iteration < max_iterations:\n",
    "        #print(f\"Iteration {iteration}:\")\n",
    "        new_proposals_made = False\n",
    "\n",
    "        # Proposal Phase\n",
    "        #print(\"  Proposal Phase:\")\n",
    "        for student, preferences in list(students_preferences.items()):\n",
    "            if matches[student] is None and preferences:\n",
    "                top_choice = preferences[0]\n",
    "                if student not in proposed_this_round[top_choice] and student not in rejections[top_choice]:  # Check for previous rejections\n",
    "                    proposals[top_choice].append(student)\n",
    "                    proposed_this_round[top_choice].append(student)\n",
    "                    new_proposals_made = True\n",
    "                    #print(f\"    {student} proposes to {top_choice}\")\n",
    "\n",
    "        # Acceptance and Reassessment Phase\n",
    "        #print(\"  Acceptance and Reassessment Phase:\")\n",
    "        for school, school_prefs in schools_preferences.items():\n",
    "            if proposals[school]:\n",
    "                all_candidates = proposals[school] + [s for s, m_school in matches.items() if m_school == school]\n",
    "                all_candidates.sort(key=lambda x: school_prefs.index(x))\n",
    "\n",
    "                accepted_students = all_candidates[:schools_capacity[school]]\n",
    "                for student in accepted_students:\n",
    "                    matches[student] = school\n",
    "                    #print(f\"    {school} tentatively accepts {student}\")\n",
    "\n",
    "                for student in all_candidates[schools_capacity[school]:]:\n",
    "                    if matches[student] == school:\n",
    "                        matches[student] = None\n",
    "                        rejections[school].append(student)\n",
    "                        #print(f\"    {school} rejects {student}\")\n",
    "                        if student in proposed_this_round[school]:\n",
    "                            proposals[school].remove(student)\n",
    "\n",
    "                proposals[school] = []\n",
    "                proposed_this_round[school] = []\n",
    "\n",
    "        for student, preferences in list(students_preferences.items()):\n",
    "            if matches[student] is None and preferences:\n",
    "                top_choice = preferences[0]\n",
    "                if student not in proposals[top_choice] and student not in rejections[top_choice]:  # Check for previous rejections\n",
    "                    rejections[top_choice].append(student)\n",
    "\n",
    "        proposals = {school: [] for school in schools_preferences}\n",
    "        proposed_this_round = {school: [] for school in schools_preferences}\n",
    "\n",
    "        #print(\"  Current Matches:\", matches)\n",
    "        #print(\"  Rejections:\", rejections)\n",
    "\n",
    "        # Update student preferences based on rejections\n",
    "        for school, rejected_students in rejections.items():\n",
    "            for student in rejected_students:\n",
    "                if student in students_preferences and school in students_preferences[student]:\n",
    "                    students_preferences[student].remove(school)\n",
    "        \n",
    "        # Check for convergence\n",
    "        if not new_proposals_made:\n",
    "            consecutive_stable_iterations += 1\n",
    "            if consecutive_stable_iterations >= convergence_threshold or iteration >= 50:\n",
    "                break  # Exit the loop if no changes for several consecutive iterations or iteration exceeds 50\n",
    "        else:\n",
    "            consecutive_stable_iterations = 0  # Reset counter if there are new proposals\n",
    "\n",
    "        iteration += 1\n",
    "\n",
    "    return matches, rejections"
   ]
  },
  {
   "cell_type": "code",
   "execution_count": 51,
   "metadata": {},
   "outputs": [],
   "source": [
    "# Run the Deferred Acceptance algorithm with reassessment\n",
    "\n",
    "final_matches_random, rejections_random = deferred_acceptance_with_reassessment(student_preferences_random_dict, school_preferences_dict, schools_capacity)\n",
    "#print(\"\\nFinal Matches random:\", final_matches_random)\n",
    "#print(\"Rejections:\", rejections_random)\n",
    "\n",
    "final_matches_test, rejections_test = deferred_acceptance_with_reassessment(student_preferences_score_dict, school_preferences_dict, schools_capacity)\n",
    "#print(\"\\nFinal Matches test:\", final_matches_test)\n",
    "#print(\"Rejections:\", rejections_test)"
   ]
  },
  {
   "cell_type": "markdown",
   "metadata": {},
   "source": [
    "## Step 4 - Updating the student's database"
   ]
  },
  {
   "cell_type": "code",
   "execution_count": 52,
   "metadata": {},
   "outputs": [],
   "source": [
    "# Adding the allocated school information to the dataframe\n",
    "final_df['final_matches_random'] = final_df['student_id'].map(final_matches_random)\n",
    "final_df['final_matches_test'] = final_df['student_id'].map(final_matches_test)\n",
    "\n",
    "# Function to determine the preference number of the allocated school\n",
    "def find_preference_number_random(row):\n",
    "    # Check against each preference\n",
    "    for pref_number, pref_column in enumerate(['random_first_pref', 'random_second_pref', 'random_third_pref'], start=1):\n",
    "        if row['final_matches_random'] == row[pref_column]:\n",
    "            return pref_number\n",
    "    return None\n",
    "\n",
    "def find_preference_number_test(row):\n",
    "    # Check against each preference\n",
    "    for pref_number, pref_column in enumerate(['score_first_pref', 'score_second_pref', 'score_third_pref'], start=1):\n",
    "        if row['final_matches_test'] == row[pref_column]:\n",
    "            return pref_number\n",
    "    return None\n",
    "\n",
    "# Create a new column whcih shows what preference did the match satisfied\n",
    "final_df['preference_number_random'] = final_df.apply(find_preference_number_random, axis=1)\n",
    "final_df['preference_number_test'] = final_df.apply(find_preference_number_test, axis=1)\n",
    "\n",
    "\n",
    "#final_df"
   ]
  },
  {
   "cell_type": "markdown",
   "metadata": {},
   "source": [
    "## Step 5 - Showing the results graphically"
   ]
  },
  {
   "cell_type": "code",
   "execution_count": 53,
   "metadata": {},
   "outputs": [],
   "source": [
    "#final_df"
   ]
  },
  {
   "cell_type": "markdown",
   "metadata": {},
   "source": [
    "#### Plot 1: Number of allocated students per school"
   ]
  },
  {
   "cell_type": "code",
   "execution_count": 54,
   "metadata": {},
   "outputs": [
    {
     "data": {
      "image/png": "[encoded data removed]",
      "text/plain": [
       "<Figure size 864x432 with 2 Axes>"
      ]
     },
     "metadata": {
      "needs_background": "light"
     },
     "output_type": "display_data"
    }
   ],
   "source": [
    "fig, axes = plt.subplots(1, 2, figsize=(12, 6))\n",
    "final_df['final_matches_random'].value_counts().sort_index().plot(kind='bar', ax=axes[0], color='blue', title='Before knowing test score')\n",
    "final_df['final_matches_test'].value_counts().sort_index().plot(kind='bar', ax=axes[1], color='green', title='With test score knowledge');"
   ]
  },
  {
   "cell_type": "markdown",
   "metadata": {},
   "source": [
    "The scenario 2 graph, with test score knowledge depicts a uniform allocation across schools, implying that when informed by test scores, students and their families are likely to make more accurate choices. This leads to a more balanced distribution of students across schools, which could be a sign of an efficient allocation process where school capacities are maximally utilized and preferences are matched more effectively."
   ]
  },
  {
   "cell_type": "markdown",
   "metadata": {},
   "source": [
    "#### Plot 2: Satisfaction of student's with their match"
   ]
  },
  {
   "cell_type": "code",
   "execution_count": 55,
   "metadata": {},
   "outputs": [
    {
     "data": {
      "image/png": "[encoded data removed]",
      "text/plain": [
       "<Figure size 864x432 with 2 Axes>"
      ]
     },
     "metadata": {
      "needs_background": "light"
     },
     "output_type": "display_data"
    }
   ],
   "source": [
    "fig, axes = plt.subplots(1, 2, figsize=(12, 6))\n",
    "final_df['preference_number_random'].value_counts(normalize=True).sort_index().plot(kind='bar', ax=axes[0], color='blue', title='Before knowing test score')\n",
    "final_df['preference_number_test'].value_counts(normalize=True).sort_index().plot(kind='bar', ax=axes[1], color='green', title='With test score knowledge')\n",
    "axes[0].set_xlabel('Preference Number')\n",
    "axes[1].set_xlabel('Preference Number')\n",
    "axes[0].set_ylabel('Proportion of students')\n",
    "axes[1].set_ylabel('Proportion of students');\n"
   ]
  },
  {
   "cell_type": "markdown",
   "metadata": {},
   "source": []
  },
  {
   "cell_type": "markdown",
   "metadata": {},
   "source": [
    "#### Plot 3: Box Plots for Test Scores by School"
   ]
  },
  {
   "cell_type": "code",
   "execution_count": 56,
   "metadata": {},
   "outputs": [
    {
     "data": {
      "image/png": "[encoded data removed]",
      "text/plain": [
       "<Figure size 864x432 with 2 Axes>"
      ]
     },
     "metadata": {
      "needs_background": "light"
     },
     "output_type": "display_data"
    }
   ],
   "source": [
    "fig, axes = plt.subplots(1, 2, figsize=(12, 6))\n",
    "sns.boxplot(x='final_matches_random', y='test_score', data=final_df, ax=axes[0]).set_title('Before knowing test score')\n",
    "sns.boxplot(x='final_matches_test', y='test_score', data=final_df, ax=axes[1]).set_title('With test score knowledge')\n",
    "axes[0].set_xlabel('School match')\n",
    "axes[1].set_xlabel('School match')\n",
    "axes[0].set_ylabel('Test Percentile')\n",
    "axes[1].set_ylabel('Test Percentile');\n"
   ]
  },
  {
   "cell_type": "markdown",
   "metadata": {},
   "source": []
  },
  {
   "cell_type": "markdown",
   "metadata": {},
   "source": [
    "#### Plot 4: Test scores vs School ranking"
   ]
  },
  {
   "cell_type": "code",
   "execution_count": 57,
   "metadata": {},
   "outputs": [
    {
     "data": {
      "image/png": "[encoded data removed]",
      "text/plain": [
       "<Figure size 864x432 with 2 Axes>"
      ]
     },
     "metadata": {
      "needs_background": "light"
     },
     "output_type": "display_data"
    }
   ],
   "source": [
    "fig, axes = plt.subplots(1, 2, figsize=(12, 6))\n",
    "axes[0].scatter(final_df['final_matches_random'], final_df['test_score'], color='blue', alpha=0.5)\n",
    "axes[1].scatter(final_df['final_matches_test'], final_df['test_score'], color='green', alpha=0.5)\n",
    "axes[0].set_title('Before knowing test score')\n",
    "axes[1].set_title('With test score knowledge')\n",
    "axes[0].set_xlabel('School Ranking')\n",
    "axes[1].set_xlabel('School Ranking')\n",
    "axes[0].set_ylabel('Test Percentile')\n",
    "axes[1].set_ylabel('Test Percentile');"
   ]
  },
  {
   "cell_type": "markdown",
   "metadata": {},
   "source": [
    "The allocation pattern depicted in the left graph, \"Before knowing test score,\" reveals that students across all performance levels are more evenly distributed across their preferences. Notably, top-performing students are also allocated to middle-tier schools, highlighting a less efficient matching system when test scores are unknown.\n",
    "\n",
    "In contrast, the right graph, \"With test score knowledge,\" shows a pronounced trend of students being allocated to their second-choice schools. This indicates a more informed selection process, aligning student choices with their academic ranking. However, anomalies such as the clustering around the second-best and lowest-ranked schools, or jumps in test percentiles for lower ranking schools suggest influences from the simulation's assumptions and indicate areas for refinement in future iterations of the model.\n"
   ]
  },
  {
   "cell_type": "markdown",
   "metadata": {},
   "source": [
    "#### Plot 5 - Test scores of not allocated students"
   ]
  },
  {
   "cell_type": "code",
   "execution_count": 58,
   "metadata": {},
   "outputs": [
    {
     "data": {
      "image/png": "[encoded data removed]",
      "text/plain": [
       "<Figure size 864x432 with 1 Axes>"
      ]
     },
     "metadata": {
      "needs_background": "light"
     },
     "output_type": "display_data"
    },
    {
     "data": {
      "image/png": "[encoded data removed]",
      "text/plain": [
       "<Figure size 864x432 with 1 Axes>"
      ]
     },
     "metadata": {
      "needs_background": "light"
     },
     "output_type": "display_data"
    }
   ],
   "source": [
    "# Creating masks for allocated and not allocated students\n",
    "allocated_mask_random = final_df['final_matches_random'].notna()\n",
    "not_allocated_mask_random = final_df['final_matches_random'].isna()\n",
    "allocated_mask_test = final_df['final_matches_test'].notna()\n",
    "not_allocated_mask_test = final_df['final_matches_test'].isna()\n",
    "\n",
    "# Histogram of Test Scores for Allocated vs. Not Allocated Students in Random Scenario\n",
    "plt.figure(figsize=(12, 6))\n",
    "plt.hist([final_df[not_allocated_mask_random]['test_score'], final_df[allocated_mask_random]['test_score']], \n",
    "         bins=20, stacked=True, label=['Not Allocated', 'Allocated'], color=['red', 'blue'])\n",
    "plt.title('Before knowing test score')\n",
    "plt.xlabel('Test Percentile')\n",
    "plt.ylabel('Number of Students')\n",
    "plt.legend()\n",
    "plt.show()\n",
    "\n",
    "# Histogram of Test Scores for Allocated vs. Not Allocated Students in Test Score Scenario\n",
    "plt.figure(figsize=(12, 6))\n",
    "plt.hist([final_df[not_allocated_mask_test]['test_score'], final_df[allocated_mask_test]['test_score']], \n",
    "         bins=20, stacked=True, label=['Not Allocated', 'Allocated'], color=['orange', 'green'])\n",
    "plt.title('With test score knowledge')\n",
    "plt.xlabel('Test Percentile')\n",
    "plt.ylabel('Number of Students')\n",
    "plt.legend()\n",
    "plt.show()\n",
    "\n"
   ]
  },
  {
   "cell_type": "markdown",
   "metadata": {},
   "source": [
    "# Discussion and conclusion (0.5 points)\n"
   ]
  },
  {
   "cell_type": "markdown",
   "metadata": {
    "deletable": false,
    "nbgrader": {
     "checksum": "52e1cf5783dd1971d265a8ea172e297a",
     "grade": true,
     "grade_id": "cell-4b5c9f698b295ad7",
     "locked": false,
     "points": 0.5,
     "schema_version": 1,
     "solution": true
    }
   },
   "source": [
    "#### Key Findings\n",
    "- **Application Strategy**: When students know their test results beforehand, their choices align more closely with their academic standing, leading to less speculative school selections.\n",
    "- **Admission Outcomes**: The timing of test results leads to distinct patterns in school admissions. Without test score knowledge, portion of students is allocated significantly lower than what their capabilities suggest. With test score knowledge, students make more realistic choices, aligning their preferences with their academic capabilities. Only students with the lowest test scores have also increased chances of not finding a school at all.\n",
    "- **Impact on Equity and Inequalities**: Having test results before applying appears to make the admission process more equitable. Students are matched with schools that reflect their academic level, reducing the chance of over-ambitious or under-ambitious choices. This could potentially reduce inequalities by allocating school seats based on merit rather than strategic choices.\n",
    "- **Systemic Implications**: The availability of test scores beforehand can lead to more informed decision-making by students and families. The role of parents and family becomes crucial in guiding realistic and suitable school choices without knowing test scores. Without knowing test scores, students with the same results often end up on a wery different quality of schools, whcih only depends on their selected preferences.\n",
    "\n",
    "#### Hypotheses Validation\n",
    "- **Hypothesis 1**: Confirmed. Knowing test results before applying leads to more accurate school choices, as seen in more consistent distribution of test scores across schools.\n",
    "- **Hypothesis 2**: Confirmed. The timing of test results significantly impacts the efficiency and fairness of the admission process. The scenario with test score knowledge shows a more equitable distribution of students among schools, aligning students' capabilities with school rankings."
   ]
  },
  {
   "cell_type": "markdown",
   "metadata": {},
   "source": [
    "#### Detailed commentary\n",
    "##### Plot 1: School Allocations\n",
    "- **With Test Score Knowledge**: All schools are fully allocated, indicating efficient use of school capacities.\n",
    "- **Randomized Preferences**: The least preferred school is left with empty spaces, suggesting some students, who are not allocated at all, would prefer to attend this school.\n",
    "\n",
    "##### Plot 2: Preference Satisfaction Rate\n",
    "- **With Test Score Knowledge**: Approximately 70% of students are allocated to their second preference, aligning with their test scores. The allocation to the first and third preferences is equally for both around 15%. Thus third choice allocation is also lower.\n",
    "- **Randomized Preferences**: Nearly half of the students are allocated to their first preference, likely due to aiming for realistically more attainable schools to secure a spot. About one-quarter are allocated to their second and third preferences.\n",
    "\n",
    "##### Plot 3: Allocations by School\n",
    "- **With Test Score Knowledge**: Shows an efficient matching process with students allocated to schools that correspond to their academic level.\n",
    "- **Randomized Preferences**: Higher-scoring students are still matched with mid-ranked schools, indicating less efficient matching.\n",
    "\n",
    "##### Plot 4: Test Scores by School\n",
    "- Reinforces the findings from Plot 3, showing mid ranking schools with top performing students under the prior to tests scores preferences situation.\n",
    "\n",
    "##### Plot 5: Test Scores vs. Allocations\n",
    "- **With Test Score Knowledge**: Mostly lower-scoring students are not allocated, indicating a fairer process.\n",
    "- **Randomized Preferences**: Some higher-scoring students are not allocated to any school.\n",
    "\n",
    "#### Limitations\n",
    "- **Test Scores as Sole Criterion and other real world differences**: The reliance on test scores as the primary criterion for school allocation overlooks other factors like extracurricular achievements, socio-economic background, and personal circumstances. In the real world school do not usually take only test scores into account.\n",
    "- **Unrealistic assumptions**: The model approximate prior test score knowledge preference selection as being random. It might be that better approximation of their selection would show different results. It also assumes all schools having the same preference order for schools, which is not the case. Students with different interests prefer different schools.\n",
    "- **Only one situation**: The analysis only shows situation, with given number of students, schools and other criteria. These can be changed in the model and more realistic conclusions could be drawn if different initial settings would be analyzed.\n",
    "\n",
    "\n",
    "### Conclusion\n",
    "Overall, knowing test scores before applying results in a more efficient and equitable allocation process. The random preference selection scenario, while offering more first-preference allocations, appears less efficient and potentially unfair, particularly for higher-scoring students who end up in mid-ranked schools or are not allocated at all. But the anlysis relies on a number of assumptions, which might poorly represent the real world.\n"
   ]
  },
  {
   "cell_type": "markdown",
   "metadata": {},
   "source": [
    "# Ackwnlodgement of sources and AI generative tools used"
   ]
  },
  {
   "cell_type": "markdown",
   "metadata": {},
   "source": [
    "Many parts of the text and the code were with my help either fully generated or automatically notated by Chat GPT and other similar tools. For the similation code I also extensively worked and copied cofe from __[git repository of Tomas Protivinsky](https://github.com/protivinsky/idea-admissions/tree/main)__, which he freely shares alongside his paper.\n"
   ]
  }
 ],
 "metadata": {
  "kernelspec": {
   "display_name": "Python 3 (ipykernel)",
   "language": "python",
   "name": "python3"
  },
  "language_info": {
   "codemirror_mode": {
    "name": "ipython",
    "version": 3
   },
   "file_extension": ".py",
   "mimetype": "text/x-python",
   "name": "python",
   "nbconvert_exporter": "python",
   "pygments_lexer": "ipython3",
   "version": "3.9.7"
  },
  "toc": {
   "base_numbering": 1,
   "nav_menu": {},
   "number_sections": true,
   "sideBar": true,
   "skip_h1_title": false,
   "title_cell": "Table of Contents",
   "title_sidebar": "Contents",
   "toc_cell": false,
   "toc_position": {},
   "toc_section_display": true,
   "toc_window_display": true
  }
 },
 "nbformat": 4,
 "nbformat_minor": 4
}
